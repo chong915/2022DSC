{
 "cells": [
  {
   "cell_type": "code",
   "execution_count": 1,
   "id": "16582518",
   "metadata": {},
   "outputs": [],
   "source": [
    "# Supress Warnings\n",
    "import warnings\n",
    "warnings.filterwarnings('ignore')\n",
    "\n",
    "import pickle\n",
    "import pandas as pd\n",
    "import numpy as np\n",
    "import matplotlib.pyplot as plt\n",
    "\n",
    "# Geospatial\n",
    "import contextily as cx\n",
    "import xarray as xr\n",
    "import zarr # Not referenced, but required for xarray\n",
    "\n",
    "# Import Planetary Computer tools\n",
    "import fsspec\n",
    "import pystac"
   ]
  },
  {
   "cell_type": "code",
   "execution_count": 2,
   "id": "90a1fdec",
   "metadata": {},
   "outputs": [],
   "source": [
    "full_model = pickle.load(open('model.pkl', 'rb'))"
   ]
  },
  {
   "cell_type": "code",
   "execution_count": 3,
   "id": "430471b1",
   "metadata": {},
   "outputs": [],
   "source": [
    "# Load in test coordinates\n",
    "test_file = pd.read_csv('challenge_1_submission_template.csv')"
   ]
  },
  {
   "cell_type": "code",
   "execution_count": 4,
   "id": "fba1f4bb",
   "metadata": {},
   "outputs": [],
   "source": [
    "# Read in test regions\n",
    "test_1_regions = []\n",
    "with open('challenge_1_test_regions.txt', 'r') as file: \n",
    "    for i, line in enumerate(file):\n",
    "        if i > 0:\n",
    "            test_1_regions.append(eval(\"(\"+line+\")\"))"
   ]
  },
  {
   "cell_type": "code",
   "execution_count": 5,
   "id": "f08adee6",
   "metadata": {},
   "outputs": [],
   "source": [
    "# Load in regions and save as list of dictionaries.\n",
    "test_regions = [{'title':i, 'bbox':bbox} for i, bbox in enumerate(test_1_regions)]"
   ]
  },
  {
   "cell_type": "markdown",
   "id": "97898a8d",
   "metadata": {},
   "source": [
    "# TerraClimate Data (18 Variables)"
   ]
  },
  {
   "cell_type": "code",
   "execution_count": 6,
   "id": "42ea9bff",
   "metadata": {},
   "outputs": [],
   "source": [
    "def get_terraclimate(bbox, metrics, time_slice=None, assets=None, features=None, interp_dims=None, verbose=True):\n",
    "    \"\"\"Returns terraclimate metrics for a given area, allowing results to be interpolated onto a larger image.\n",
    "    \n",
    "    Attributes:\n",
    "    bbox -- Tuple of (min_lon, min_lat, max_lon, max_lat) to define area\n",
    "    metrics -- Nested dictionary in the form {<metric_name>:{'fn':<metric_function>,'params':<metric_kwargs_dict>}, ... }\n",
    "    time_slice -- Tuple of datetime strings to select data between, e.g. ('2015-01-01','2019-12-31')\n",
    "    assets -- list of terraclimate assets to take\n",
    "    features -- list of asset metrics to take, specified by strings in the form '<asset_name>_<metric_name>'\n",
    "    interp_dims -- Tuple of dimensions (n, m) to interpolate results to\n",
    "    \"\"\"\n",
    "    min_lon, min_lat, max_lon, max_lat = bbox\n",
    "    \n",
    "    collection = pystac.read_file(\"https://planetarycomputer.microsoft.com/api/stac/v1/collections/terraclimate\")\n",
    "    asset = collection.assets[\"zarr-https\"]\n",
    "    store = fsspec.get_mapper(asset.href)\n",
    "    data = xr.open_zarr(store, **asset.extra_fields[\"xarray:open_kwargs\"])\n",
    "    \n",
    "    # Select datapoints that overlap region\n",
    "    if time_slice is not None:\n",
    "        data = data.sel(lon=slice(min_lon,max_lon),lat=slice(max_lat,min_lat),time=slice(time_slice[0],time_slice[1]))\n",
    "    else:\n",
    "        data = data.sel(lon=slice(min_lon,max_lon),lat=slice(max_lat,min_lat))\n",
    "    if assets is not None:\n",
    "        data = data[assets]\n",
    "    print('Loading data') if verbose else None\n",
    "    data = data.rename(lat='y', lon='x').to_array().compute()\n",
    "    \n",
    "    print(f'Data Shape: {data.shape}')\n",
    "        \n",
    "    # Calculate metrics\n",
    "    combined_values = []\n",
    "    combined_bands = []\n",
    "    for name, metric in metrics.items():\n",
    "        print(f'Calculating {name}') if verbose else None\n",
    "        sum_data = xr.apply_ufunc(\n",
    "            metric['fn'], data, input_core_dims=[[\"time\"]], kwargs=metric['params'], dask = 'allowed', vectorize = True\n",
    "        ).rename(variable='band')\n",
    "        \n",
    "        xcoords = sum_data.x\n",
    "        ycoords = sum_data.y\n",
    "        dims = sum_data.dims\n",
    "        print(f'Dimensions : {dims}')\n",
    "        # print(f'Sum_data values {sum_data.values}')\n",
    "        combined_values.append(sum_data.values)\n",
    "        for band in sum_data.band.values:\n",
    "            combined_bands.append(band+'_'+name)\n",
    "    \n",
    "    # Combine metrics\n",
    "    combined_values = np.concatenate(\n",
    "        combined_values,\n",
    "        axis=0\n",
    "    )\n",
    "    combined_data = xr.DataArray(\n",
    "        data=combined_values,\n",
    "        dims=dims,\n",
    "        coords=dict(\n",
    "            band=combined_bands,\n",
    "            y=ycoords,\n",
    "            x=xcoords\n",
    "        )\n",
    "    )    \n",
    "\n",
    "    # Take relevant bands:\n",
    "    combined_data = combined_data.sel(band=features)\n",
    "    \n",
    "    if interp_dims is not None:\n",
    "        print(f'Interpolating image') if verbose else None\n",
    "        interp_coords = (np.linspace(bbox[0], bbox[2], interp_dims[0]), np.linspace(bbox[1], bbox[3], interp_dims[1]))\n",
    "        combined_data = combined_data.interp(x=interp_coords[0], y=interp_coords[1], method='nearest', kwargs={\"fill_value\": \"extrapolate\"})\n",
    "    \n",
    "    return combined_data"
   ]
  },
  {
   "cell_type": "code",
   "execution_count": 9,
   "id": "b8b0a9a0",
   "metadata": {},
   "outputs": [],
   "source": [
    "min_lon, min_lat = (115, -40.00)  # Lower-left corner\n",
    "max_lon, max_lat = (154.00, -10.00)  # Upper-right corner\n",
    "bbox = (min_lon, min_lat, max_lon, max_lat)\n",
    "\n",
    "# Metrics to measure over time dimension\n",
    "tc_metrics = {\n",
    "    'mean':{\n",
    "        'fn':np.nanmean,\n",
    "        'params':{}\n",
    "    },\n",
    "    'std':{\n",
    "        'fn':np.nanstd,\n",
    "        'params':{}\n",
    "    },\n",
    "    'median':{\n",
    "        'fn':np.nanmedian,\n",
    "        'params':{}\n",
    "    },\n",
    "    'min':{\n",
    "        'fn':np.nanmax,\n",
    "        'params':{}\n",
    "    },\n",
    "    'max':{\n",
    "        'fn':np.nanmin,\n",
    "        'params':{}\n",
    "    }\n",
    "}\n",
    "\n",
    "# Date range to take\n",
    "time_slice = ('2014-01-01','2019-12-31')\n",
    "\n",
    "# Measurements to take\n",
    "assets = ['aet', 'def', 'pdsi', 'pet', 'ppt', 'ppt_station_influence', 'q', 'soil', 'srad', 'swe', 'tmax',\n",
    "         'tmax_station_influence', 'tmin', 'tmin_station_influence', 'vap', 'vap_station_influence', 'vpd', 'ws']\n",
    "\n",
    "\n",
    "features = ['aet_mean', 'def_mean', 'pdsi_mean', 'pet_mean', 'ppt_mean', 'ppt_station_influence_mean', 'q_mean',\n",
    "            'soil_mean', 'srad_mean', 'swe_mean', 'tmax_mean', 'tmax_station_influence_mean', 'tmin_mean',\n",
    "            'tmin_station_influence_mean', 'vap_mean', 'vap_station_influence_mean', 'vpd_mean', 'ws_mean',\n",
    "           'aet_std', 'def_std', 'pdsi_std', 'pet_std', 'ppt_std', 'ppt_station_influence_std', 'q_std',\n",
    "            'soil_std', 'srad_std', 'swe_std', 'tmax_std', 'tmax_station_influence_std', 'tmin_std',\n",
    "            'tmin_station_influence_std', 'vap_std', 'vap_station_influence_std', 'vpd_std', 'ws_std',\n",
    "           'aet_min', 'def_min', 'pdsi_min', 'pet_min', 'ppt_min', 'ppt_station_influence_min', 'q_min', 'soil_min',\n",
    "            'srad_min', 'swe_min', 'tmax_min', 'tmax_station_influence_min', 'tmin_min', 'tmin_station_influence_min',\n",
    "            'vap_min', 'vap_station_influence_min', 'vpd_min', 'ws_min',\n",
    "           'aet_max', 'def_max', 'pdsi_max', 'pet_max', 'ppt_max', 'ppt_station_influence_max', 'q_max', 'soil_max',\n",
    "            'srad_max', 'swe_max', 'tmax_max', 'tmax_station_influence_max', 'tmin_max', 'tmin_station_influence_max',\n",
    "            'vap_max', 'vap_station_influence_max', 'vpd_max', 'ws_max',\n",
    "           'aet_median', 'def_median', 'pdsi_median', 'pet_median', 'ppt_median', 'ppt_station_influence_median', 'q_median',\n",
    "            'soil_median', 'srad_median', 'swe_median', 'tmax_median', 'tmax_station_influence_median', 'tmin_median',\n",
    "            'tmin_station_influence_median', 'vap_median', 'vap_station_influence_median', 'vpd_median', 'ws_median']"
   ]
  },
  {
   "cell_type": "code",
   "execution_count": 10,
   "id": "1b52a4d7",
   "metadata": {},
   "outputs": [
    {
     "name": "stdout",
     "output_type": "stream",
     "text": [
      "Loading data\n",
      "Data Shape: (18, 72, 720, 936)\n",
      "Calculating mean\n",
      "Dimensions : ('band', 'y', 'x')\n",
      "Calculating std\n",
      "Dimensions : ('band', 'y', 'x')\n",
      "Calculating median\n",
      "Dimensions : ('band', 'y', 'x')\n",
      "Calculating min\n",
      "Dimensions : ('band', 'y', 'x')\n",
      "Calculating max\n",
      "Dimensions : ('band', 'y', 'x')\n"
     ]
    }
   ],
   "source": [
    "weather_data = get_terraclimate(bbox, tc_metrics, time_slice=time_slice, assets=assets, features=features)"
   ]
  },
  {
   "cell_type": "code",
   "execution_count": 11,
   "id": "cb9be452",
   "metadata": {},
   "outputs": [],
   "source": [
    "def predict_frogs(predictor_image, model):\n",
    "    \"\"\"Returns a (1, n, m) xarray where each pixel value corresponds to the probability of a frog occurrence.\n",
    "    \n",
    "    Takes in the multi-band image outputted by the `create_predictor_image` function as well as the\n",
    "    trained model and returns the predictions for each pixel value. Firstly, the $x$ and $y$ indexes\n",
    "    in the predictor image are stacked into one multi-index $z=(x, y)$ to produce an $k\\times n$\n",
    "    array, which is the format required to feed into our logistic regression model. Then, the array\n",
    "    is fed into the model, returning the model's predictions for the frog likelihood at each pixel. \n",
    "    The predicted probabilities are then indexed by the same multi-index $z$ as before, which allows \n",
    "    the array to be unstacked and returned as a one-band image, ready for plotting.\n",
    "\n",
    "    Arguments:\n",
    "    predictor_image -- (K, n, m) xarray, where K is the number of predictor variables.\n",
    "    model -- sklearn model with K predictor variables.\n",
    "    \"\"\"\n",
    "    # Stack up pixels so they are in the appropriate format for the model\n",
    "    predictor_image = predictor_image.stack(z=(\"y\", \"x\")).transpose()\n",
    "    # Reorder variables to be in same order as model\n",
    "    predictor_image = predictor_image.sel(band=model.feature_names_in_)\n",
    "    # Location of null values so that we can skip them (prediction model will break if nulls are present)\n",
    "    null_pixels = (np.sum(predictor_image.isnull(), axis=-1) > 0)\n",
    "    # Empty probabilities array\n",
    "    probabilities = np.zeros((len(null_pixels), 2))\n",
    "    # Calculate probability for each non-null pixel point\n",
    "    probabilities[~null_pixels] = model.predict_proba(\n",
    "        predictor_image[~null_pixels].to_numpy()\n",
    "    )\n",
    "    # Set null pixels to a probability of null\n",
    "    probabilities[null_pixels] = np.array([np.nan, np.nan])\n",
    "    # Just take probability of frog (class=1)\n",
    "    probabilities = probabilities[:,1]\n",
    "    # Add the coordinates to the probabilities, saving them in an xarray\n",
    "    resultant_image = xr.DataArray(\n",
    "        data=probabilities,\n",
    "        dims=['z'],\n",
    "        coords=dict(\n",
    "            z=predictor_image.z\n",
    "        )\n",
    "    )\n",
    "    # Unstack the image\n",
    "    resultant_image = resultant_image.unstack()\n",
    "    return resultant_image\n",
    "\n",
    "# Calculate probability for each pixel point \n",
    "resultant_image = predict_frogs(weather_data.copy(), full_model)"
   ]
  },
  {
   "cell_type": "code",
   "execution_count": 12,
   "id": "85adc6e5",
   "metadata": {},
   "outputs": [],
   "source": [
    "def filter_bbox(frogs, bbox):\n",
    "    frogs = frogs[lambda x: \n",
    "        (x.decimalLongitude >= bbox[0]) &\n",
    "        (x.decimalLatitude >= bbox[1]) &\n",
    "        (x.decimalLongitude <= bbox[2]) &\n",
    "        (x.decimalLatitude <= bbox[3])\n",
    "    ]\n",
    "    return frogs"
   ]
  },
  {
   "cell_type": "code",
   "execution_count": 13,
   "id": "4826a314",
   "metadata": {},
   "outputs": [
    {
     "name": "stdout",
     "output_type": "stream",
     "text": [
      "Loading data\n",
      "Data Shape: (18, 72, 24, 24)\n",
      "Calculating mean\n",
      "Dimensions : ('band', 'y', 'x')\n",
      "Calculating std\n",
      "Dimensions : ('band', 'y', 'x')\n",
      "Calculating median\n",
      "Dimensions : ('band', 'y', 'x')\n",
      "Calculating min\n",
      "Dimensions : ('band', 'y', 'x')\n",
      "Calculating max\n",
      "Dimensions : ('band', 'y', 'x')\n"
     ]
    },
    {
     "data": {
      "image/png": "[encoded data removed]",
      "text/plain": [
       "<Figure size 432x288 with 2 Axes>"
      ]
     },
     "metadata": {
      "needs_background": "light"
     },
     "output_type": "display_data"
    },
    {
     "name": "stdout",
     "output_type": "stream",
     "text": [
      "Loading data\n",
      "Data Shape: (18, 72, 24, 24)\n",
      "Calculating mean\n",
      "Dimensions : ('band', 'y', 'x')\n",
      "Calculating std\n",
      "Dimensions : ('band', 'y', 'x')\n",
      "Calculating median\n",
      "Dimensions : ('band', 'y', 'x')\n",
      "Calculating min\n",
      "Dimensions : ('band', 'y', 'x')\n",
      "Calculating max\n",
      "Dimensions : ('band', 'y', 'x')\n"
     ]
    },
    {
     "data": {
      "image/png": "[encoded data removed]",
      "text/plain": [
       "<Figure size 432x288 with 2 Axes>"
      ]
     },
     "metadata": {
      "needs_background": "light"
     },
     "output_type": "display_data"
    },
    {
     "name": "stdout",
     "output_type": "stream",
     "text": [
      "Loading data\n",
      "Data Shape: (18, 72, 24, 24)\n",
      "Calculating mean\n",
      "Dimensions : ('band', 'y', 'x')\n",
      "Calculating std\n",
      "Dimensions : ('band', 'y', 'x')\n",
      "Calculating median\n",
      "Dimensions : ('band', 'y', 'x')\n",
      "Calculating min\n",
      "Dimensions : ('band', 'y', 'x')\n",
      "Calculating max\n",
      "Dimensions : ('band', 'y', 'x')\n"
     ]
    },
    {
     "data": {
      "image/png": "[encoded data removed]",
      "text/plain": [
       "<Figure size 432x288 with 2 Axes>"
      ]
     },
     "metadata": {
      "needs_background": "light"
     },
     "output_type": "display_data"
    },
    {
     "name": "stdout",
     "output_type": "stream",
     "text": [
      "Loading data\n",
      "Data Shape: (18, 72, 24, 24)\n",
      "Calculating mean\n",
      "Dimensions : ('band', 'y', 'x')\n",
      "Calculating std\n",
      "Dimensions : ('band', 'y', 'x')\n",
      "Calculating median\n",
      "Dimensions : ('band', 'y', 'x')\n",
      "Calculating min\n",
      "Dimensions : ('band', 'y', 'x')\n",
      "Calculating max\n",
      "Dimensions : ('band', 'y', 'x')\n"
     ]
    },
    {
     "data": {
      "image/png": "[encoded data removed]",
      "text/plain": [
       "<Figure size 432x288 with 2 Axes>"
      ]
     },
     "metadata": {
      "needs_background": "light"
     },
     "output_type": "display_data"
    },
    {
     "name": "stdout",
     "output_type": "stream",
     "text": [
      "Loading data\n",
      "Data Shape: (18, 72, 24, 24)\n",
      "Calculating mean\n",
      "Dimensions : ('band', 'y', 'x')\n",
      "Calculating std\n",
      "Dimensions : ('band', 'y', 'x')\n",
      "Calculating median\n",
      "Dimensions : ('band', 'y', 'x')\n",
      "Calculating min\n",
      "Dimensions : ('band', 'y', 'x')\n",
      "Calculating max\n",
      "Dimensions : ('band', 'y', 'x')\n"
     ]
    },
    {
     "data": {
      "image/png": "[encoded data removed]",
      "text/plain": [
       "<Figure size 432x288 with 2 Axes>"
      ]
     },
     "metadata": {
      "needs_background": "light"
     },
     "output_type": "display_data"
    }
   ],
   "source": [
    "# Obtain predictor data for each region and get predictor image\n",
    "for region in test_regions:\n",
    "    region['coords'] = filter_bbox(test_file[['id', 'decimalLongitude', 'decimalLatitude']], region['bbox'])\n",
    "    region['predictors'] = get_terraclimate(region['bbox'], tc_metrics, time_slice=('2014-01-01', '2019-12-31'), assets=assets, features=features)\n",
    "    region['result'] = predict_frogs(region['predictors'], full_model) > 0.5\n",
    "    \n",
    "    region['result'].plot.imshow(x='x', y='y', vmin=0, vmax=1)\n",
    "    plt.show()"
   ]
  },
  {
   "cell_type": "code",
   "execution_count": 14,
   "id": "eda68be2",
   "metadata": {},
   "outputs": [],
   "source": [
    "predictions = pd.DataFrame()\n",
    "\n",
    "for region in test_regions:\n",
    "    preds = (\n",
    "        region['result'].rename('occurrenceStatus')\n",
    "        .sel(\n",
    "            x=xr.DataArray(region['coords'].decimalLongitude, dims=\"id\", coords={\"id\": region['coords'].id}), \n",
    "            y=xr.DataArray(region['coords'].decimalLatitude, dims=\"id\", coords={\"id\": region['coords'].id}),\n",
    "            method=\"nearest\"\n",
    "        )\n",
    "        .to_dataframe()\n",
    "        .reset_index()\n",
    "        .rename(columns={'x':'decimalLongitude', 'y':'decimalLatitude'})\n",
    "    )\n",
    "    predictions = predictions.append(preds)\n",
    "            \n",
    "submission = (    \n",
    "    predictions.merge(\n",
    "        test_file, \n",
    "        on=['decimalLongitude', 'decimalLatitude'], \n",
    "        how='left', suffixes = ('', '_'))\n",
    "    [test_file.columns]\n",
    "    .fillna(0)\n",
    "    .astype({col:'int' for col in test_file.columns[3::]})\n",
    ")"
   ]
  },
  {
   "cell_type": "code",
   "execution_count": 15,
   "id": "effa80d8",
   "metadata": {},
   "outputs": [
    {
     "data": {
      "text/plain": [
       "0    2925\n",
       "1    1126\n",
       "Name: occurrenceStatus, dtype: int64"
      ]
     },
     "execution_count": 15,
     "metadata": {},
     "output_type": "execute_result"
    }
   ],
   "source": [
    "submission['occurrenceStatus'].value_counts()"
   ]
  },
  {
   "cell_type": "code",
   "execution_count": null,
   "id": "d28da0c6",
   "metadata": {},
   "outputs": [],
   "source": [
    "#submission.to_csv('submission_v1.14.csv', index=None)"
   ]
  }
 ],
 "metadata": {
  "kernelspec": {
   "display_name": "Python 3 (ipykernel)",
   "language": "python",
   "name": "python3"
  },
  "language_info": {
   "codemirror_mode": {
    "name": "ipython",
    "version": 3
   },
   "file_extension": ".py",
   "mimetype": "text/x-python",
   "name": "python",
   "nbconvert_exporter": "python",
   "pygments_lexer": "ipython3",
   "version": "3.8.12"
  }
 },
 "nbformat": 4,
 "nbformat_minor": 5
}
